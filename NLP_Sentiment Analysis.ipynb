{
 "cells": [
  {
   "cell_type": "markdown",
   "id": "5b055167-fd22-4f20-9fc4-3fd69945b55a",
   "metadata": {},
   "source": [
    "# <h1 style='background:#EED4E5; border:12; color:black'><center>Sentiment Analysis</center></h1> \n",
    "\n",
    "## Sentiment Analysis using  NLP Machine Learning\n",
    "An application that includes a group of restaurants. \n",
    "The goal is to create a machine learning model that helps identify customer comments on food orders, \n",
    "whether they are bad or good, where 1comment represents positive and 0 represents negative comment ."
   ]
  },
  {
   "cell_type": "code",
   "execution_count": 503,
   "id": "90bc9af2-8fd5-4ffb-8b34-67b158e8ea96",
   "metadata": {},
   "outputs": [],
   "source": [
    "import pandas  as pd\n",
    "import numpy as np\n",
    "import seaborn as sns\n",
    "import string\n",
    "import nltk\n",
    "import matplotlib.pyplot as plt\n",
    "from sklearn.feature_extraction.text import CountVectorizer , TfidfVectorizer\n",
    "%matplotlib inline\n",
    "sns.set(rc={'figure.figsize': [12, 5]}, font_scale=1.3)\n",
    "import warnings \n",
    "warnings.filterwarnings('ignore')"
   ]
  },
  {
   "cell_type": "code",
   "execution_count": null,
   "id": "26a08273-f226-4a75-a9c4-00a3edf2b8b6",
   "metadata": {},
   "outputs": [],
   "source": []
  },
  {
   "cell_type": "code",
   "execution_count": 591,
   "id": "16145a9f-de13-4ee2-9d80-1716f9308c84",
   "metadata": {},
   "outputs": [],
   "source": [
    "## loading dataset\n",
    "df = pd.read_csv('Customers_Comments.csv',sep = ',')"
   ]
  },
  {
   "cell_type": "code",
   "execution_count": 592,
   "id": "1d877e6e-2fb6-40eb-9f28-7504d2429071",
   "metadata": {},
   "outputs": [
    {
     "data": {
      "text/html": [
       "<div>\n",
       "<style scoped>\n",
       "    .dataframe tbody tr th:only-of-type {\n",
       "        vertical-align: middle;\n",
       "    }\n",
       "\n",
       "    .dataframe tbody tr th {\n",
       "        vertical-align: top;\n",
       "    }\n",
       "\n",
       "    .dataframe thead th {\n",
       "        text-align: right;\n",
       "    }\n",
       "</style>\n",
       "<table border=\"1\" class=\"dataframe\">\n",
       "  <thead>\n",
       "    <tr style=\"text-align: right;\">\n",
       "      <th></th>\n",
       "      <th>Comment</th>\n",
       "      <th>Liked</th>\n",
       "    </tr>\n",
       "  </thead>\n",
       "  <tbody>\n",
       "    <tr>\n",
       "      <th>0</th>\n",
       "      <td>Wow... Loved this place.</td>\n",
       "      <td>1</td>\n",
       "    </tr>\n",
       "    <tr>\n",
       "      <th>1</th>\n",
       "      <td>Crust is not good.</td>\n",
       "      <td>0</td>\n",
       "    </tr>\n",
       "    <tr>\n",
       "      <th>2</th>\n",
       "      <td>Not tasty and the texture was just nasty.</td>\n",
       "      <td>0</td>\n",
       "    </tr>\n",
       "    <tr>\n",
       "      <th>3</th>\n",
       "      <td>Stopped by during the late May bank holiday of...</td>\n",
       "      <td>1</td>\n",
       "    </tr>\n",
       "    <tr>\n",
       "      <th>4</th>\n",
       "      <td>The selection on the menu was great and so wer...</td>\n",
       "      <td>1</td>\n",
       "    </tr>\n",
       "  </tbody>\n",
       "</table>\n",
       "</div>"
      ],
      "text/plain": [
       "                                             Comment  Liked\n",
       "0                           Wow... Loved this place.      1\n",
       "1                                 Crust is not good.      0\n",
       "2          Not tasty and the texture was just nasty.      0\n",
       "3  Stopped by during the late May bank holiday of...      1\n",
       "4  The selection on the menu was great and so wer...      1"
      ]
     },
     "execution_count": 592,
     "metadata": {},
     "output_type": "execute_result"
    }
   ],
   "source": [
    "df.head()"
   ]
  },
  {
   "cell_type": "markdown",
   "id": "0aecc784-937e-4a94-863a-4050f015f5b7",
   "metadata": {},
   "source": [
    "## Exploring data"
   ]
  },
  {
   "cell_type": "code",
   "execution_count": 506,
   "id": "cac63307-8d62-46b4-a190-36bbfe8a2509",
   "metadata": {},
   "outputs": [
    {
     "data": {
      "text/plain": [
       "Liked\n",
       "1    500\n",
       "0    500\n",
       "Name: count, dtype: int64"
      ]
     },
     "execution_count": 506,
     "metadata": {},
     "output_type": "execute_result"
    }
   ],
   "source": [
    "df['Liked'].value_counts()"
   ]
  },
  {
   "cell_type": "code",
   "execution_count": 507,
   "id": "e2c7f1fb-3ea0-428d-b3b6-4183029b1e19",
   "metadata": {},
   "outputs": [],
   "source": [
    "df['Commentlength'] = df['Comment'].apply(len)"
   ]
  },
  {
   "cell_type": "code",
   "execution_count": 508,
   "id": "3535d28f-0723-41b5-80f9-4d46cbc7e4f7",
   "metadata": {},
   "outputs": [
    {
     "data": {
      "text/plain": [
       "<Axes: xlabel='Liked', ylabel='Commentlength'>"
      ]
     },
     "execution_count": 508,
     "metadata": {},
     "output_type": "execute_result"
    },
    {
     "data": {
      "image/png": "[encoded data removed]",
      "text/plain": [
       "<Figure size 1200x500 with 1 Axes>"
      ]
     },
     "metadata": {},
     "output_type": "display_data"
    }
   ],
   "source": [
    "sns.boxplot(df, y = 'Commentlength' , x = 'Liked')"
   ]
  },
  {
   "cell_type": "code",
   "execution_count": 509,
   "id": "f10a23ac-0a97-41cc-a56a-b04fc80bca42",
   "metadata": {},
   "outputs": [],
   "source": [
    "import nltk\n",
    "from nltk.corpus import stopwords\n",
    "from nltk.stem import PorterStemmer\n",
    "import re"
   ]
  },
  {
   "cell_type": "code",
   "execution_count": 510,
   "id": "a65a565a-f9b9-4e6b-9ca3-513f3e54421a",
   "metadata": {},
   "outputs": [
    {
     "name": "stderr",
     "output_type": "stream",
     "text": [
      "[nltk_data] Downloading package stopwords to\n",
      "[nltk_data]     C:\\Users\\zamzam\\AppData\\Roaming\\nltk_data...\n",
      "[nltk_data]   Package stopwords is already up-to-date!\n"
     ]
    },
    {
     "data": {
      "text/plain": [
       "True"
      ]
     },
     "execution_count": 510,
     "metadata": {},
     "output_type": "execute_result"
    }
   ],
   "source": [
    "nltk.download('stopwords')\n",
    "nltk.download('averaged_perceptron_tagger')\n",
    "nltk.download('punkt')"
   ]
  },
  {
   "cell_type": "markdown",
   "id": "e2f08aa9-a554-4cf1-be22-6a6bf3e00e52",
   "metadata": {},
   "source": [
    "Import the nltk to find the stopwords"
   ]
  },
  {
   "cell_type": "code",
   "execution_count": 566,
   "id": "a132ce85-b352-4587-9ffa-db93c09ebf09",
   "metadata": {},
   "outputs": [
    {
     "name": "stdout",
     "output_type": "stream",
     "text": [
      "['i', 'me', 'my', 'myself', 'we', 'our', 'ours', 'ourselves', 'you', \"you're\", \"you've\", \"you'll\", \"you'd\", 'your', 'yours', 'yourself', 'yourselves', 'he', 'him', 'his', 'himself', 'she', \"she's\", 'her', 'hers', 'herself', 'it', \"it's\", 'its', 'itself', 'they', 'them', 'their', 'theirs', 'themselves', 'what', 'which', 'who', 'whom', 'this', 'that', \"that'll\", 'these', 'those', 'am', 'is', 'are', 'was', 'were', 'be', 'been', 'being', 'have', 'has', 'had', 'having', 'do', 'does', 'did', 'doing', 'a', 'an', 'the', 'and', 'but', 'if', 'or', 'because', 'as', 'until', 'while', 'of', 'at', 'by', 'for', 'with', 'about', 'against', 'between', 'into', 'through', 'during', 'before', 'after', 'above', 'below', 'to', 'from', 'up', 'down', 'in', 'out', 'on', 'off', 'over', 'under', 'again', 'further', 'then', 'once', 'here', 'there', 'when', 'where', 'why', 'how', 'all', 'any', 'both', 'each', 'few', 'more', 'most', 'other', 'some', 'such', 'no', 'nor', 'not', 'only', 'own', 'same', 'so', 'than', 'too', 'very', 's', 't', 'can', 'will', 'just', 'don', \"don't\", 'should', \"should've\", 'now', 'd', 'll', 'm', 'o', 're', 've', 'y', 'ain', 'aren', \"aren't\", 'couldn', \"couldn't\", 'didn', \"didn't\", 'doesn', \"doesn't\", 'hadn', \"hadn't\", 'hasn', \"hasn't\", 'haven', \"haven't\", 'isn', \"isn't\", 'ma', 'mightn', \"mightn't\", 'mustn', \"mustn't\", 'needn', \"needn't\", 'shan', \"shan't\", 'shouldn', \"shouldn't\", 'wasn', \"wasn't\", 'weren', \"weren't\", 'won', \"won't\", 'wouldn', \"wouldn't\"]\n"
     ]
    }
   ],
   "source": [
    "Find_stopwords = stopwords.words('english')\n",
    "print(Find_stopwords)\n"
   ]
  },
  {
   "cell_type": "markdown",
   "id": "83f3d247-24da-40e4-bc3d-20bc51015696",
   "metadata": {},
   "source": [
    " "
   ]
  },
  {
   "cell_type": "code",
   "execution_count": 512,
   "id": "422db027-08bb-49b6-acc6-afbe69d87b8a",
   "metadata": {},
   "outputs": [
    {
     "data": {
      "text/plain": [
       "'Wow... Loved this place.'"
      ]
     },
     "execution_count": 512,
     "metadata": {},
     "output_type": "execute_result"
    }
   ],
   "source": [
    "row = df['Comment'][0]\n",
    "row"
   ]
  },
  {
   "cell_type": "code",
   "execution_count": 513,
   "id": "9f9c85cf-3b9c-4be3-9065-b47a54085d2d",
   "metadata": {},
   "outputs": [
    {
     "data": {
      "text/plain": [
       "'Wow    Loved this place '"
      ]
     },
     "execution_count": 513,
     "metadata": {},
     "output_type": "execute_result"
    }
   ],
   "source": [
    "re.sub('[^a-zA-z]',' ',row)"
   ]
  },
  {
   "cell_type": "code",
   "execution_count": 548,
   "id": "8bcdafa0-302b-4b15-a5cf-317f48b748ff",
   "metadata": {},
   "outputs": [
    {
     "data": {
      "text/plain": [
       "['Wow', 'Loved', 'this', 'place']"
      ]
     },
     "execution_count": 548,
     "metadata": {},
     "output_type": "execute_result"
    }
   ],
   "source": [
    "words = re.sub('[^a-zA-z]',' ',row).split()\n",
    "words"
   ]
  },
  {
   "cell_type": "code",
   "execution_count": 589,
   "id": "f505a7bb-28f0-4fe6-b189-08903b46dd40",
   "metadata": {},
   "outputs": [],
   "source": [
    "lis1 = []\n",
    "for word in words :\n",
    "  if word not in Find_stopwords :\n",
    "    low =  word.lower()\n",
    "    Stemmer = PorterStemmer()\n",
    "    lis1.append(low)"
   ]
  },
  {
   "cell_type": "code",
   "execution_count": 590,
   "id": "82fd2ba5-305f-41c7-9164-53eb8e9eb94a",
   "metadata": {},
   "outputs": [
    {
     "data": {
      "text/plain": [
       "'wow loved place'"
      ]
     },
     "execution_count": 590,
     "metadata": {},
     "output_type": "execute_result"
    }
   ],
   "source": [
    "' '.join(lis1)"
   ]
  },
  {
   "cell_type": "markdown",
   "id": "898cdb90-59ed-4113-989b-2ae29984f0ae",
   "metadata": {},
   "source": [
    "## Define function \n",
    "to filter the sentence from any verbs, spaces, periods and punctuation"
   ]
  },
  {
   "cell_type": "code",
   "execution_count": 608,
   "id": "f7939f57-3750-4197-97eb-1611e407fc58",
   "metadata": {},
   "outputs": [],
   "source": [
    "def convert (x) :\n",
    "  \"\"\"\n",
    "  Filter the sentence from any verbs, spaces, periods,\n",
    "  and punctuation marks using libraries to simplify he sentence for the model,\n",
    "  so it does not learn words that are not significant or unuseful.\n",
    "  \"\"\"\n",
    "  lis1 = []\n",
    "  words = re.sub('[^a-zA-z]',' ',x).split()\n",
    "  for word in words :\n",
    "    if word.lower() not in Find_stopwords :\n",
    "      low =  word.lower()\n",
    "      Stemmer = PorterStemmer()\n",
    "      lis1.append(low)\n",
    "  return ' '.join(lis1)"
   ]
  },
  {
   "cell_type": "markdown",
   "id": "ec51cb67-7fb9-448f-8666-eaa26c777b30",
   "metadata": {},
   "source": [
    "Remove verbs, spaces, periods and punctuation"
   ]
  },
  {
   "cell_type": "code",
   "execution_count": 609,
   "id": "4f598928-9c24-4aeb-a706-e7a342680841",
   "metadata": {},
   "outputs": [],
   "source": [
    "df['Comment'] = df['Comment'].apply(convert)"
   ]
  },
  {
   "cell_type": "code",
   "execution_count": 610,
   "id": "0509da5f-6156-48b3-8036-8fd3a55eb925",
   "metadata": {},
   "outputs": [
    {
     "data": {
      "text/plain": [
       "0                                      wow loved place\n",
       "1                                           crust good\n",
       "2                                  tasty texture nasty\n",
       "3    stopped late may bank holiday rick steve recom...\n",
       "4                          selection menu great prices\n",
       "Name: Comment, dtype: object"
      ]
     },
     "execution_count": 610,
     "metadata": {},
     "output_type": "execute_result"
    }
   ],
   "source": [
    "df['Comment'].head()"
   ]
  },
  {
   "cell_type": "markdown",
   "id": "534e8ab3-313b-4cc6-bbfc-aa1f55bc0530",
   "metadata": {},
   "source": [
    "## \n",
    "Create func to Find the repeated words"
   ]
  },
  {
   "cell_type": "code",
   "execution_count": 567,
   "id": "3601cfca-c84b-4eaa-8900-d95ee097dad9",
   "metadata": {},
   "outputs": [],
   "source": [
    "def SW (x) :\n",
    "  \"\"\"\n",
    "  Find the repeated words\n",
    "  \"\"\"\n",
    "  lis1 = []\n",
    "  words = re.sub('[^a-zA-z]',' ',x).split()\n",
    "  for word in words :\n",
    "    if word.lower()  in Find_stopwords :\n",
    "        lis1.append(word.lower())  \n",
    "  return lis1"
   ]
  },
  {
   "cell_type": "code",
   "execution_count": 572,
   "id": "df1acb31-e321-4cee-a673-aef8b1a5f730",
   "metadata": {},
   "outputs": [
    {
     "data": {
      "text/plain": [
       "['this', 'is', 'not', 'not', 'and']"
      ]
     },
     "execution_count": 572,
     "metadata": {},
     "output_type": "execute_result"
    }
   ],
   "source": [
    "stop_word = [SW(i) for i in list(df['Comment'])]\n",
    "lsi = [ x for i in stop_word for x in i ]  \n",
    "lsi [:5]"
   ]
  },
  {
   "cell_type": "code",
   "execution_count": null,
   "id": "85c9a4f6-f8df-445d-b509-436c04aaa848",
   "metadata": {},
   "outputs": [],
   "source": []
  },
  {
   "cell_type": "code",
   "execution_count": 573,
   "id": "6145cb52-d80d-45cd-adef-f0f8d8d982a9",
   "metadata": {},
   "outputs": [],
   "source": [
    "from typing import Counter"
   ]
  },
  {
   "cell_type": "code",
   "execution_count": 574,
   "id": "80d6735a-2208-41b8-b618-6abd776d1f7c",
   "metadata": {},
   "outputs": [],
   "source": [
    "Repeated = pd.DataFrame(Counter(lsi).items() , columns=['Word','Repeated'])\n",
    "rep = Repeated[Repeated['Repeated'] > 100]"
   ]
  },
  {
   "cell_type": "code",
   "execution_count": 575,
   "id": "81111d38-6e84-4b87-9eaf-8631d34b703b",
   "metadata": {},
   "outputs": [
    {
     "data": {
      "text/plain": [
       "Text(0.5, 1.0, 'Most common repeated words ')"
      ]
     },
     "execution_count": 575,
     "metadata": {},
     "output_type": "execute_result"
    },
    {
     "data": {
      "image/png": "[encoded data removed]",
      "text/plain": [
       "<Figure size 1500x500 with 1 Axes>"
      ]
     },
     "metadata": {},
     "output_type": "display_data"
    }
   ],
   "source": [
    "from palettable.colorbrewer.qualitative import Pastel1_7\n",
    "plt.figure(figsize=(15,5))\n",
    "my_circle=plt.Circle((0,0), 0.7, color='white')\n",
    "sns.barplot(y = rep['Word'], x = rep['Repeated'] , data = rep)\n",
    "plt.title('Most common repeated words ')"
   ]
  },
  {
   "cell_type": "code",
   "execution_count": null,
   "id": "94a335b5-78d5-4f29-a115-48a88f42f6d3",
   "metadata": {},
   "outputs": [],
   "source": []
  },
  {
   "cell_type": "code",
   "execution_count": 577,
   "id": "5bd4c3b7-5a3e-4f62-875d-6a6c4acc9a76",
   "metadata": {},
   "outputs": [
    {
     "data": {
      "text/plain": [
       "0                             Wow... Loved this place.\n",
       "1                                   Crust is not good.\n",
       "2            Not tasty and the texture was just nasty.\n",
       "3    Stopped by during the late May bank holiday of...\n",
       "4    The selection on the menu was great and so wer...\n",
       "Name: Comment, dtype: object"
      ]
     },
     "execution_count": 577,
     "metadata": {},
     "output_type": "execute_result"
    }
   ],
   "source": [
    "df['Comment'].head(5)"
   ]
  },
  {
   "cell_type": "markdown",
   "id": "feb234c8-d951-4461-9eaf-844b572d6d92",
   "metadata": {},
   "source": [
    "## Define function \n",
    "to filter the sentence from any verbs, spaces, periods and punctuation"
   ]
  },
  {
   "cell_type": "markdown",
   "id": "733d2352-6e13-4da3-b546-5f7899d63f59",
   "metadata": {},
   "source": [
    " "
   ]
  },
  {
   "cell_type": "markdown",
   "id": "9ef11a2f-ceae-42f5-b943-c7669e58dba6",
   "metadata": {},
   "source": [
    "After filtering keep it in list "
   ]
  },
  {
   "cell_type": "code",
   "execution_count": 578,
   "id": "5c4d243c-a87d-45cd-9b2e-db29ac3fa6cd",
   "metadata": {},
   "outputs": [],
   "source": [
    "def convert (x) :\n",
    "  \"\"\"\n",
    "  Filter the sentence from any verbs, spaces, periods,\n",
    "  and punctuation marks using libraries to simplify he sentence for the model,\n",
    "  so it does not learn words that are not significant or unuseful.\n",
    "  \"\"\"\n",
    "  lis1 = []\n",
    "  words = re.sub('[^a-zA-z]',' ',x).split()\n",
    "  for word in words :\n",
    "    if word.lower() not in Find_stopwords :\n",
    "      low =  word.lower()\n",
    "      Stemmer = PorterStemmer()\n",
    "      lis1.append(Stemmer.stem(low))\n",
    "  return ' '.join(lis1)"
   ]
  },
  {
   "cell_type": "markdown",
   "id": "3e0a1394-b7f2-4b74-8c61-25f59c908f16",
   "metadata": {},
   "source": [
    " "
   ]
  },
  {
   "cell_type": "code",
   "execution_count": 630,
   "id": "2e1d5cdc-ba15-448f-bf74-1bcb3a5d5c42",
   "metadata": {},
   "outputs": [],
   "source": [
    "df['Comment'] = df['Comment'].apply(convert)"
   ]
  },
  {
   "cell_type": "code",
   "execution_count": 631,
   "id": "9a3348ae-c651-4364-acd8-946f982bf12d",
   "metadata": {},
   "outputs": [
    {
     "data": {
      "text/plain": [
       "0                                      wow loved place\n",
       "1                                           crust good\n",
       "2                                  tasty texture nasty\n",
       "3    stopped late may bank holiday rick steve recom...\n",
       "4                          selection menu great prices\n",
       "Name: Comment, dtype: object"
      ]
     },
     "execution_count": 631,
     "metadata": {},
     "output_type": "execute_result"
    }
   ],
   "source": [
    "df['Comment'].head()"
   ]
  },
  {
   "cell_type": "markdown",
   "id": "39765212-3708-4eb4-90de-bf06e9acad31",
   "metadata": {},
   "source": [
    "Remove verbs, spaces, periods and punctuation"
   ]
  },
  {
   "cell_type": "markdown",
   "id": "23204813-fdc0-4760-8836-5f9d4a83334e",
   "metadata": {},
   "source": [
    " "
   ]
  },
  {
   "cell_type": "markdown",
   "id": "9eadcde3-206c-468e-995c-4690c92667be",
   "metadata": {},
   "source": [
    "Conversion the sentences to arrays"
   ]
  },
  {
   "cell_type": "markdown",
   "id": "1dfd250d-f8ea-4347-916f-e0fda338f1d3",
   "metadata": {},
   "source": [
    " "
   ]
  },
  {
   "cell_type": "markdown",
   "id": "256951af-32d0-49f8-a028-fe8dbd433816",
   "metadata": {},
   "source": [
    " "
   ]
  },
  {
   "cell_type": "markdown",
   "id": "72567f4b-36b6-4b68-8588-5edb069f2dd4",
   "metadata": {},
   "source": [
    "## Building model using Pipeline\n",
    "\n"
   ]
  },
  {
   "cell_type": "code",
   "execution_count": 525,
   "id": "b7625856-e287-4914-abf7-df77f23f8a6b",
   "metadata": {},
   "outputs": [],
   "source": [
    "from sklearn.feature_extraction.text import TfidfVectorizer ,CountVectorizer\n",
    "from sklearn.naive_bayes import GaussianNB , MultinomialNB , BernoulliNB\n",
    "from sklearn.preprocessing import FunctionTransformer"
   ]
  },
  {
   "cell_type": "code",
   "execution_count": 526,
   "id": "f6cb1024-c8b5-4548-b723-d11a4d2313a4",
   "metadata": {},
   "outputs": [],
   "source": [
    "from sklearn.tree import DecisionTreeClassifier\n",
    "from sklearn.ensemble import RandomForestClassifier , VotingClassifier\n",
    "from xgboost import XGBClassifier \n",
    "from sklearn.svm import SVC\n",
    "from sklearn.linear_model import LogisticRegression\n",
    "from sklearn.neighbors import KNeighborsClassifier\n",
    "from sklearn.pipeline import Pipeline\n",
    "from sklearn.model_selection import cross_validate \n",
    "from sklearn.compose import ColumnTransformer \n",
    "from sklearn.preprocessing import StandardScaler"
   ]
  },
  {
   "cell_type": "markdown",
   "id": "d785e602-b6eb-4efc-bc5d-d7db389adce3",
   "metadata": {},
   "source": [
    "## \n",
    "We will try a several algorithms and get the best accuracy to build our model using FunctionTransformer"
   ]
  },
  {
   "cell_type": "code",
   "execution_count": 527,
   "id": "dac31e42-8564-4eaa-9bba-eef32be5c328",
   "metadata": {},
   "outputs": [],
   "source": [
    "models = list()\n",
    "models.append((\"DecisionTreeClassifier\" , DecisionTreeClassifier(max_depth=6 , max_leaf_nodes=10 , max_features=5)))\n",
    "models.append((\"GaussianNB\" , GaussianNB()))\n",
    "models.append((\"LogisticRegression\" , LogisticRegression()))\n",
    "models.append((\"KNeighborsClassifier\" , KNeighborsClassifier()))\n",
    "models.append((\"XGBClassifier\" , XGBClassifier(n_estimators=20)))\n",
    "models.append((\"RandomForestClassifier\" , RandomForestClassifier(n_estimators=20)))\n",
    "models.append((\"MultinomialNB\" , MultinomialNB()))\n",
    "models.append((\"SVC\" , SVC()))\n",
    "x = df['Comment']\n",
    "y = df['Liked']"
   ]
  },
  {
   "cell_type": "code",
   "execution_count": 528,
   "id": "6cb04fd8-6664-4372-ac81-687a0adbf55d",
   "metadata": {},
   "outputs": [
    {
     "name": "stdout",
     "output_type": "stream",
     "text": [
      "DecisionTreeClassifier\n",
      "Train accuracy is  0.534\n",
      "Test accuracy is  0.525\n",
      "**************************************************\n",
      "GaussianNB\n",
      "Train accuracy is  0.9492499999999999\n",
      "Test accuracy is  0.681\n",
      "**************************************************\n",
      "LogisticRegression\n",
      "Train accuracy is  0.9535\n",
      "Test accuracy is  0.783\n",
      "**************************************************\n",
      "KNeighborsClassifier\n",
      "Train accuracy is  0.64075\n",
      "Test accuracy is  0.5900000000000001\n",
      "**************************************************\n",
      "XGBClassifier\n",
      "Train accuracy is  0.81325\n",
      "Test accuracy is  0.735\n",
      "**************************************************\n",
      "RandomForestClassifier\n",
      "Train accuracy is  0.99375\n",
      "Test accuracy is  0.7579999999999999\n",
      "**************************************************\n",
      "MultinomialNB\n",
      "Train accuracy is  0.96075\n",
      "Test accuracy is  0.78\n",
      "**************************************************\n",
      "SVC\n",
      "Train accuracy is  0.99375\n",
      "Test accuracy is  0.781\n",
      "**************************************************\n"
     ]
    }
   ],
   "source": [
    "for model in models:\n",
    "    step = list()\n",
    "    step.append(('tf',TfidfVectorizer(stop_words = 'english')))\n",
    "    step.append(('fun',FunctionTransformer(lambda x :x.toarray(),accept_sparse= True)))\n",
    "    step.append(model)\n",
    "    pipline = Pipeline(steps = step)\n",
    "    codec = cross_validate(pipline,x , y, cv = 5 ,return_train_score=True,scoring='accuracy')\n",
    "    print(model[0])\n",
    "    print(\"Train accuracy is \",codec[\"train_score\"].mean())\n",
    "    print(\"Test accuracy is \" , codec[\"test_score\"].mean())\n",
    "    print(\"*\" * 50)"
   ]
  },
  {
   "cell_type": "markdown",
   "id": "eebbd2a8-1583-42f3-bb46-95c8d2a47db2",
   "metadata": {},
   "source": [
    "## We can use XGBClassifier"
   ]
  },
  {
   "cell_type": "code",
   "execution_count": 529,
   "id": "2eb28651-f11c-47e1-8470-d5b4437c7140",
   "metadata": {},
   "outputs": [],
   "source": [
    "def func(x):\n",
    "    x.toarray()"
   ]
  },
  {
   "cell_type": "code",
   "execution_count": 530,
   "id": "8a69b3d0-2c35-473d-98e1-b8c4b0b105ca",
   "metadata": {},
   "outputs": [],
   "source": [
    "steps = []\n",
    "steps.append(('tf',TfidfVectorizer(stop_words = 'english')))\n",
    "steps.append(('fun',FunctionTransformer(lambda x :x.toarray(),accept_sparse= True)))\n",
    "steps.append(('GaussianNB',XGBClassifier(n_estimators=10)))\n",
    "pipeline = Pipeline(steps= steps )"
   ]
  },
  {
   "cell_type": "code",
   "execution_count": 531,
   "id": "35a1caa6-b10a-4c71-9f54-9638bd90ed54",
   "metadata": {},
   "outputs": [],
   "source": [
    "x = df['Comment']\n",
    "y = df['Liked']"
   ]
  },
  {
   "cell_type": "code",
   "execution_count": 532,
   "id": "f53c549a-2cae-4f6b-88d0-eef0c1b6646b",
   "metadata": {},
   "outputs": [],
   "source": [
    "pipeline = Pipeline(steps= steps )"
   ]
  },
  {
   "cell_type": "code",
   "execution_count": 533,
   "id": "f985ed9f-b12d-4f44-acbf-977633a72e6a",
   "metadata": {},
   "outputs": [],
   "source": [
    "model = cross_validate(pipeline,x , y, cv = 10 ,return_train_score=True)\n"
   ]
  },
  {
   "cell_type": "markdown",
   "id": "4b9f13ce-7870-4984-83f5-20cea0625172",
   "metadata": {},
   "source": [
    "## Evaluating model "
   ]
  },
  {
   "cell_type": "code",
   "execution_count": 444,
   "id": "a6c4c63c-1344-47aa-a7d5-c507ae9f829b",
   "metadata": {},
   "outputs": [
    {
     "data": {
      "text/plain": [
       "(0.7259999999999999, 0.776)"
      ]
     },
     "execution_count": 444,
     "metadata": {},
     "output_type": "execute_result"
    }
   ],
   "source": [
    "model['test_score'].mean() , model['train_score'].mean()"
   ]
  },
  {
   "cell_type": "code",
   "execution_count": 343,
   "id": "fababc2d-8ff0-48ca-921a-d753707936e9",
   "metadata": {},
   "outputs": [],
   "source": [
    "sns.lineplot(model['test_score']) \n",
    "sns.lineplot(model['train_score'])\n",
    "plt.title('GaussianNB')"
   ]
  },
  {
   "cell_type": "code",
   "execution_count": 448,
   "id": "51954069-5e67-48a0-8d0f-622e4a8b446f",
   "metadata": {},
   "outputs": [
    {
     "data": {
      "text/html": [
       "<style>#sk-container-id-13 {color: black;background-color: white;}#sk-container-id-13 pre{padding: 0;}#sk-container-id-13 div.sk-toggleable {background-color: white;}#sk-container-id-13 label.sk-toggleable__label {cursor: pointer;display: block;width: 100%;margin-bottom: 0;padding: 0.3em;box-sizing: border-box;text-align: center;}#sk-container-id-13 label.sk-toggleable__label-arrow:before {content: \"▸\";float: left;margin-right: 0.25em;color: #696969;}#sk-container-id-13 label.sk-toggleable__label-arrow:hover:before {color: black;}#sk-container-id-13 div.sk-estimator:hover label.sk-toggleable__label-arrow:before {color: black;}#sk-container-id-13 div.sk-toggleable__content {max-height: 0;max-width: 0;overflow: hidden;text-align: left;background-color: #f0f8ff;}#sk-container-id-13 div.sk-toggleable__content pre {margin: 0.2em;color: black;border-radius: 0.25em;background-color: #f0f8ff;}#sk-container-id-13 input.sk-toggleable__control:checked~div.sk-toggleable__content {max-height: 200px;max-width: 100%;overflow: auto;}#sk-container-id-13 input.sk-toggleable__control:checked~label.sk-toggleable__label-arrow:before {content: \"▾\";}#sk-container-id-13 div.sk-estimator input.sk-toggleable__control:checked~label.sk-toggleable__label {background-color: #d4ebff;}#sk-container-id-13 div.sk-label input.sk-toggleable__control:checked~label.sk-toggleable__label {background-color: #d4ebff;}#sk-container-id-13 input.sk-hidden--visually {border: 0;clip: rect(1px 1px 1px 1px);clip: rect(1px, 1px, 1px, 1px);height: 1px;margin: -1px;overflow: hidden;padding: 0;position: absolute;width: 1px;}#sk-container-id-13 div.sk-estimator {font-family: monospace;background-color: #f0f8ff;border: 1px dotted black;border-radius: 0.25em;box-sizing: border-box;margin-bottom: 0.5em;}#sk-container-id-13 div.sk-estimator:hover {background-color: #d4ebff;}#sk-container-id-13 div.sk-parallel-item::after {content: \"\";width: 100%;border-bottom: 1px solid gray;flex-grow: 1;}#sk-container-id-13 div.sk-label:hover label.sk-toggleable__label {background-color: #d4ebff;}#sk-container-id-13 div.sk-serial::before {content: \"\";position: absolute;border-left: 1px solid gray;box-sizing: border-box;top: 0;bottom: 0;left: 50%;z-index: 0;}#sk-container-id-13 div.sk-serial {display: flex;flex-direction: column;align-items: center;background-color: white;padding-right: 0.2em;padding-left: 0.2em;position: relative;}#sk-container-id-13 div.sk-item {position: relative;z-index: 1;}#sk-container-id-13 div.sk-parallel {display: flex;align-items: stretch;justify-content: center;background-color: white;position: relative;}#sk-container-id-13 div.sk-item::before, #sk-container-id-13 div.sk-parallel-item::before {content: \"\";position: absolute;border-left: 1px solid gray;box-sizing: border-box;top: 0;bottom: 0;left: 50%;z-index: -1;}#sk-container-id-13 div.sk-parallel-item {display: flex;flex-direction: column;z-index: 1;position: relative;background-color: white;}#sk-container-id-13 div.sk-parallel-item:first-child::after {align-self: flex-end;width: 50%;}#sk-container-id-13 div.sk-parallel-item:last-child::after {align-self: flex-start;width: 50%;}#sk-container-id-13 div.sk-parallel-item:only-child::after {width: 0;}#sk-container-id-13 div.sk-dashed-wrapped {border: 1px dashed gray;margin: 0 0.4em 0.5em 0.4em;box-sizing: border-box;padding-bottom: 0.4em;background-color: white;}#sk-container-id-13 div.sk-label label {font-family: monospace;font-weight: bold;display: inline-block;line-height: 1.2em;}#sk-container-id-13 div.sk-label-container {text-align: center;}#sk-container-id-13 div.sk-container {/* jupyter's `normalize.less` sets `[hidden] { display: none; }` but bootstrap.min.css set `[hidden] { display: none !important; }` so we also need the `!important` here to be able to override the default hidden behavior on the sphinx rendered scikit-learn.org. See: https://github.com/scikit-learn/scikit-learn/issues/21755 */display: inline-block !important;position: relative;}#sk-container-id-13 div.sk-text-repr-fallback {display: none;}</style><div id=\"sk-container-id-13\" class=\"sk-top-container\"><div class=\"sk-text-repr-fallback\"><pre>Pipeline(steps=[(&#x27;tf&#x27;, TfidfVectorizer(stop_words=&#x27;english&#x27;)),\n",
       "                (&#x27;fun&#x27;,\n",
       "                 FunctionTransformer(accept_sparse=True,\n",
       "                                     func=&lt;function &lt;lambda&gt; at 0x000001D605E5F9C0&gt;)),\n",
       "                (&#x27;GaussianNB&#x27;,\n",
       "                 XGBClassifier(base_score=None, booster=None, callbacks=None,\n",
       "                               colsample_bylevel=None, colsample_bynode=None,\n",
       "                               colsample_bytree=None, device=None,\n",
       "                               early_stopping_rounds=None,\n",
       "                               enable_categorical=...\n",
       "                               feature_types=None, gamma=None, grow_policy=None,\n",
       "                               importance_type=None,\n",
       "                               interaction_constraints=None, learning_rate=None,\n",
       "                               max_bin=None, max_cat_threshold=None,\n",
       "                               max_cat_to_onehot=None, max_delta_step=None,\n",
       "                               max_depth=None, max_leaves=None,\n",
       "                               min_child_weight=None, missing=nan,\n",
       "                               monotone_constraints=None, multi_strategy=None,\n",
       "                               n_estimators=10, n_jobs=None,\n",
       "                               num_parallel_tree=None, random_state=None, ...))])</pre><b>In a Jupyter environment, please rerun this cell to show the HTML representation or trust the notebook. <br />On GitHub, the HTML representation is unable to render, please try loading this page with nbviewer.org.</b></div><div class=\"sk-container\" hidden><div class=\"sk-item sk-dashed-wrapped\"><div class=\"sk-label-container\"><div class=\"sk-label sk-toggleable\"><input class=\"sk-toggleable__control sk-hidden--visually\" id=\"sk-estimator-id-34\" type=\"checkbox\" ><label for=\"sk-estimator-id-34\" class=\"sk-toggleable__label sk-toggleable__label-arrow\">Pipeline</label><div class=\"sk-toggleable__content\"><pre>Pipeline(steps=[(&#x27;tf&#x27;, TfidfVectorizer(stop_words=&#x27;english&#x27;)),\n",
       "                (&#x27;fun&#x27;,\n",
       "                 FunctionTransformer(accept_sparse=True,\n",
       "                                     func=&lt;function &lt;lambda&gt; at 0x000001D605E5F9C0&gt;)),\n",
       "                (&#x27;GaussianNB&#x27;,\n",
       "                 XGBClassifier(base_score=None, booster=None, callbacks=None,\n",
       "                               colsample_bylevel=None, colsample_bynode=None,\n",
       "                               colsample_bytree=None, device=None,\n",
       "                               early_stopping_rounds=None,\n",
       "                               enable_categorical=...\n",
       "                               feature_types=None, gamma=None, grow_policy=None,\n",
       "                               importance_type=None,\n",
       "                               interaction_constraints=None, learning_rate=None,\n",
       "                               max_bin=None, max_cat_threshold=None,\n",
       "                               max_cat_to_onehot=None, max_delta_step=None,\n",
       "                               max_depth=None, max_leaves=None,\n",
       "                               min_child_weight=None, missing=nan,\n",
       "                               monotone_constraints=None, multi_strategy=None,\n",
       "                               n_estimators=10, n_jobs=None,\n",
       "                               num_parallel_tree=None, random_state=None, ...))])</pre></div></div></div><div class=\"sk-serial\"><div class=\"sk-item\"><div class=\"sk-estimator sk-toggleable\"><input class=\"sk-toggleable__control sk-hidden--visually\" id=\"sk-estimator-id-35\" type=\"checkbox\" ><label for=\"sk-estimator-id-35\" class=\"sk-toggleable__label sk-toggleable__label-arrow\">TfidfVectorizer</label><div class=\"sk-toggleable__content\"><pre>TfidfVectorizer(stop_words=&#x27;english&#x27;)</pre></div></div></div><div class=\"sk-item\"><div class=\"sk-estimator sk-toggleable\"><input class=\"sk-toggleable__control sk-hidden--visually\" id=\"sk-estimator-id-36\" type=\"checkbox\" ><label for=\"sk-estimator-id-36\" class=\"sk-toggleable__label sk-toggleable__label-arrow\">FunctionTransformer</label><div class=\"sk-toggleable__content\"><pre>FunctionTransformer(accept_sparse=True,\n",
       "                    func=&lt;function &lt;lambda&gt; at 0x000001D605E5F9C0&gt;)</pre></div></div></div><div class=\"sk-item\"><div class=\"sk-estimator sk-toggleable\"><input class=\"sk-toggleable__control sk-hidden--visually\" id=\"sk-estimator-id-37\" type=\"checkbox\" ><label for=\"sk-estimator-id-37\" class=\"sk-toggleable__label sk-toggleable__label-arrow\">XGBClassifier</label><div class=\"sk-toggleable__content\"><pre>XGBClassifier(base_score=None, booster=None, callbacks=None,\n",
       "              colsample_bylevel=None, colsample_bynode=None,\n",
       "              colsample_bytree=None, device=None, early_stopping_rounds=None,\n",
       "              enable_categorical=False, eval_metric=None, feature_types=None,\n",
       "              gamma=None, grow_policy=None, importance_type=None,\n",
       "              interaction_constraints=None, learning_rate=None, max_bin=None,\n",
       "              max_cat_threshold=None, max_cat_to_onehot=None,\n",
       "              max_delta_step=None, max_depth=None, max_leaves=None,\n",
       "              min_child_weight=None, missing=nan, monotone_constraints=None,\n",
       "              multi_strategy=None, n_estimators=10, n_jobs=None,\n",
       "              num_parallel_tree=None, random_state=None, ...)</pre></div></div></div></div></div></div></div>"
      ],
      "text/plain": [
       "Pipeline(steps=[('tf', TfidfVectorizer(stop_words='english')),\n",
       "                ('fun',\n",
       "                 FunctionTransformer(accept_sparse=True,\n",
       "                                     func=<function <lambda> at 0x000001D605E5F9C0>)),\n",
       "                ('GaussianNB',\n",
       "                 XGBClassifier(base_score=None, booster=None, callbacks=None,\n",
       "                               colsample_bylevel=None, colsample_bynode=None,\n",
       "                               colsample_bytree=None, device=None,\n",
       "                               early_stopping_rounds=None,\n",
       "                               enable_categorical=...\n",
       "                               feature_types=None, gamma=None, grow_policy=None,\n",
       "                               importance_type=None,\n",
       "                               interaction_constraints=None, learning_rate=None,\n",
       "                               max_bin=None, max_cat_threshold=None,\n",
       "                               max_cat_to_onehot=None, max_delta_step=None,\n",
       "                               max_depth=None, max_leaves=None,\n",
       "                               min_child_weight=None, missing=nan,\n",
       "                               monotone_constraints=None, multi_strategy=None,\n",
       "                               n_estimators=10, n_jobs=None,\n",
       "                               num_parallel_tree=None, random_state=None, ...))])"
      ]
     },
     "execution_count": 448,
     "metadata": {},
     "output_type": "execute_result"
    }
   ],
   "source": [
    "pipeline.fit(x,y)"
   ]
  },
  {
   "cell_type": "code",
   "execution_count": 312,
   "id": "af885619-cb8b-4819-b77d-0ef1c906aed4",
   "metadata": {},
   "outputs": [],
   "source": []
  },
  {
   "cell_type": "code",
   "execution_count": 474,
   "id": "7d243c7e-0a3d-45a3-98ce-09296a51770c",
   "metadata": {},
   "outputs": [
    {
     "data": {
      "text/plain": [
       "array([1])"
      ]
     },
     "execution_count": 474,
     "metadata": {},
     "output_type": "execute_result"
    }
   ],
   "source": [
    "pipeline.predict(['I love the food as it had prepared well'])"
   ]
  },
  {
   "cell_type": "code",
   "execution_count": 475,
   "id": "0f11c4aa-489a-43f5-8a76-5b1725dbd78b",
   "metadata": {},
   "outputs": [
    {
     "data": {
      "text/plain": [
       "array([0])"
      ]
     },
     "execution_count": 475,
     "metadata": {},
     "output_type": "execute_result"
    }
   ],
   "source": [
    "pipeline.predict(['I think, It was need some extra spices'])"
   ]
  },
  {
   "cell_type": "markdown",
   "id": "534d66a9-2510-411b-9190-8c53a05ed7d0",
   "metadata": {},
   "source": [
    "## \n",
    "(1) represents positive comment and (0) represents negative comment "
   ]
  },
  {
   "cell_type": "code",
   "execution_count": 137,
   "id": "288b60de-f7b0-4ae0-8f3a-c3808b7b6ceb",
   "metadata": {},
   "outputs": [],
   "source": [
    "def feed_back(x) : \n",
    "    feed = pipeline.predict([x])\n",
    "    if feed == 0 : \n",
    "        return 'negative comment'  \n",
    "    else : \n",
    "        return 'positive comment'"
   ]
  },
  {
   "cell_type": "code",
   "execution_count": 138,
   "id": "2c68dd8a-095f-45d5-9565-f74f19195a0a",
   "metadata": {},
   "outputs": [
    {
     "data": {
      "text/plain": [
       "'positive comment'"
      ]
     },
     "execution_count": 138,
     "metadata": {},
     "output_type": "execute_result"
    }
   ],
   "source": [
    "feed_back('I love the food, as it was prepared well')"
   ]
  },
  {
   "cell_type": "code",
   "execution_count": 139,
   "id": "0203ea3b-0674-4eae-80fe-80594cb7d8cb",
   "metadata": {},
   "outputs": [
    {
     "data": {
      "text/plain": [
       "'negative comment'"
      ]
     },
     "execution_count": 139,
     "metadata": {},
     "output_type": "execute_result"
    }
   ],
   "source": [
    "feed_back('I think, It was need some extra spices')"
   ]
  },
  {
   "cell_type": "markdown",
   "id": "590fbdc8-adcf-4f5d-b6f7-383c00696126",
   "metadata": {},
   "source": [
    "## Using SentimentIntensityAnalyzer"
   ]
  },
  {
   "cell_type": "code",
   "execution_count": 148,
   "id": "989bf5d5-c2af-439c-b2b5-5a28908cb4c3",
   "metadata": {},
   "outputs": [],
   "source": [
    "import joblib "
   ]
  },
  {
   "cell_type": "code",
   "execution_count": 487,
   "id": "60da606b-193f-4b29-b1bf-4bb2fdcdb652",
   "metadata": {},
   "outputs": [],
   "source": [
    "from nltk.sentiment.vader import SentimentIntensityAnalyzer\n",
    "from nltk.corpus import stopwords\n",
    "from nltk.tokenize import word_tokenize\n",
    "from nltk.stem import WordNetLemmatizer\n",
    "from sklearn.metrics import confusion_matrix , classification_report\n"
   ]
  },
  {
   "cell_type": "code",
   "execution_count": 615,
   "id": "91b93a60-62b8-4b13-8656-10677939d60c",
   "metadata": {},
   "outputs": [
    {
     "data": {
      "text/plain": [
       "0                                        wow loved place\n",
       "1                                             crust good\n",
       "2                                    tasty texture nasty\n",
       "3      stopped late may bank holiday rick steve recom...\n",
       "4                            selection menu great prices\n",
       "                             ...                        \n",
       "995                    think food flavor texture lacking\n",
       "996                              appetite instantly gone\n",
       "997                      overall impressed would go back\n",
       "998    whole experience underwhelming think go ninja ...\n",
       "999    wasted enough life poured salt wound drawing t...\n",
       "Name: Comment, Length: 1000, dtype: object"
      ]
     },
     "execution_count": 615,
     "metadata": {},
     "output_type": "execute_result"
    }
   ],
   "source": [
    "df['Comment']"
   ]
  },
  {
   "cell_type": "code",
   "execution_count": 582,
   "id": "7243b528-2ddc-4597-a4e0-00ef941e6a97",
   "metadata": {},
   "outputs": [],
   "source": [
    "analyzer = SentimentIntensityAnalyzer()"
   ]
  },
  {
   "cell_type": "code",
   "execution_count": 611,
   "id": "89717cb5-8f42-4b3e-b228-35134b0539ca",
   "metadata": {},
   "outputs": [],
   "source": [
    "# define function to create sentiment result\n",
    "def get_sentiment(text):\n",
    "    analyzer = SentimentIntensityAnalyzer()\n",
    "    scores = analyzer.polarity_scores(text)\n",
    "    sentiment = 1 if scores['pos'] > 0 else 0\n",
    "    return sentiment"
   ]
  },
  {
   "cell_type": "code",
   "execution_count": 410,
   "id": "59263653-b9c8-4d39-b0cf-6def8035c944",
   "metadata": {},
   "outputs": [],
   "source": []
  },
  {
   "cell_type": "code",
   "execution_count": 633,
   "id": "122030c7-ccb5-4729-a349-8dbff85c865a",
   "metadata": {},
   "outputs": [],
   "source": [
    "df['sentiment'] = df['Comment'].apply(get_sentiment)"
   ]
  },
  {
   "cell_type": "code",
   "execution_count": 598,
   "id": "663b191a-6372-42a0-a5b9-5e738802b4cb",
   "metadata": {},
   "outputs": [
    {
     "data": {
      "text/html": [
       "<div>\n",
       "<style scoped>\n",
       "    .dataframe tbody tr th:only-of-type {\n",
       "        vertical-align: middle;\n",
       "    }\n",
       "\n",
       "    .dataframe tbody tr th {\n",
       "        vertical-align: top;\n",
       "    }\n",
       "\n",
       "    .dataframe thead th {\n",
       "        text-align: right;\n",
       "    }\n",
       "</style>\n",
       "<table border=\"1\" class=\"dataframe\">\n",
       "  <thead>\n",
       "    <tr style=\"text-align: right;\">\n",
       "      <th></th>\n",
       "      <th>Comment</th>\n",
       "      <th>Liked</th>\n",
       "      <th>sentiment</th>\n",
       "    </tr>\n",
       "  </thead>\n",
       "  <tbody>\n",
       "    <tr>\n",
       "      <th>0</th>\n",
       "      <td>Wow... Loved this place.</td>\n",
       "      <td>1</td>\n",
       "      <td>1</td>\n",
       "    </tr>\n",
       "    <tr>\n",
       "      <th>1</th>\n",
       "      <td>Crust is not good.</td>\n",
       "      <td>0</td>\n",
       "      <td>0</td>\n",
       "    </tr>\n",
       "    <tr>\n",
       "      <th>2</th>\n",
       "      <td>Not tasty and the texture was just nasty.</td>\n",
       "      <td>0</td>\n",
       "      <td>0</td>\n",
       "    </tr>\n",
       "    <tr>\n",
       "      <th>3</th>\n",
       "      <td>Stopped by during the late May bank holiday of...</td>\n",
       "      <td>1</td>\n",
       "      <td>1</td>\n",
       "    </tr>\n",
       "    <tr>\n",
       "      <th>4</th>\n",
       "      <td>The selection on the menu was great and so wer...</td>\n",
       "      <td>1</td>\n",
       "      <td>1</td>\n",
       "    </tr>\n",
       "    <tr>\n",
       "      <th>...</th>\n",
       "      <td>...</td>\n",
       "      <td>...</td>\n",
       "      <td>...</td>\n",
       "    </tr>\n",
       "    <tr>\n",
       "      <th>995</th>\n",
       "      <td>I think food should have flavor and texture an...</td>\n",
       "      <td>0</td>\n",
       "      <td>0</td>\n",
       "    </tr>\n",
       "    <tr>\n",
       "      <th>996</th>\n",
       "      <td>Appetite instantly gone.</td>\n",
       "      <td>0</td>\n",
       "      <td>0</td>\n",
       "    </tr>\n",
       "    <tr>\n",
       "      <th>997</th>\n",
       "      <td>Overall I was not impressed and would not go b...</td>\n",
       "      <td>0</td>\n",
       "      <td>0</td>\n",
       "    </tr>\n",
       "    <tr>\n",
       "      <th>998</th>\n",
       "      <td>The whole experience was underwhelming, and I ...</td>\n",
       "      <td>0</td>\n",
       "      <td>0</td>\n",
       "    </tr>\n",
       "    <tr>\n",
       "      <th>999</th>\n",
       "      <td>Then, as if I hadn't wasted enough of my life ...</td>\n",
       "      <td>0</td>\n",
       "      <td>1</td>\n",
       "    </tr>\n",
       "  </tbody>\n",
       "</table>\n",
       "<p>1000 rows × 3 columns</p>\n",
       "</div>"
      ],
      "text/plain": [
       "                                               Comment  Liked  sentiment\n",
       "0                             Wow... Loved this place.      1          1\n",
       "1                                   Crust is not good.      0          0\n",
       "2            Not tasty and the texture was just nasty.      0          0\n",
       "3    Stopped by during the late May bank holiday of...      1          1\n",
       "4    The selection on the menu was great and so wer...      1          1\n",
       "..                                                 ...    ...        ...\n",
       "995  I think food should have flavor and texture an...      0          0\n",
       "996                           Appetite instantly gone.      0          0\n",
       "997  Overall I was not impressed and would not go b...      0          0\n",
       "998  The whole experience was underwhelming, and I ...      0          0\n",
       "999  Then, as if I hadn't wasted enough of my life ...      0          1\n",
       "\n",
       "[1000 rows x 3 columns]"
      ]
     },
     "execution_count": 598,
     "metadata": {},
     "output_type": "execute_result"
    }
   ],
   "source": [
    "df"
   ]
  },
  {
   "cell_type": "code",
   "execution_count": 636,
   "id": "db9c1291-00f5-40bc-9765-a0c32a92d0bd",
   "metadata": {},
   "outputs": [
    {
     "name": "stdout",
     "output_type": "stream",
     "text": [
      "              precision    recall  f1-score   support\n",
      "\n",
      "           0       0.79      0.64      0.71       500\n",
      "           1       0.70      0.83      0.76       500\n",
      "\n",
      "    accuracy                           0.73      1000\n",
      "   macro avg       0.74      0.73      0.73      1000\n",
      "weighted avg       0.74      0.73      0.73      1000\n",
      "\n"
     ]
    }
   ],
   "source": [
    "print(classification_report(df['Liked'], df['sentiment']))"
   ]
  },
  {
   "cell_type": "markdown",
   "id": "e0dcb868-e018-4900-9e65-c385d562cd5c",
   "metadata": {},
   "source": [
    "As we see the accuracy between is .73 that's great comparable with XGBClassifier"
   ]
  },
  {
   "cell_type": "markdown",
   "id": "b60af3ca-e615-460d-89f3-4370841ff0f5",
   "metadata": {},
   "source": [
    "## Saving the model \n",
    "to add in the deploy it at the app to give the reviews automatically to the restaurant"
   ]
  },
  {
   "cell_type": "code",
   "execution_count": null,
   "id": "dbf42869-8f2f-4d28-997f-871953a86f47",
   "metadata": {},
   "outputs": [],
   "source": []
  },
  {
   "cell_type": "code",
   "execution_count": 622,
   "id": "a00db23a-5b77-4d77-a07c-28f24839f015",
   "metadata": {},
   "outputs": [],
   "source": [
    "def getsentiment(x) : \n",
    "    analyzer = SentimentIntensityAnalyzer()\n",
    "    scores = analyzer.polarity_scores(x)\n",
    "    if scores['pos'] > 0 : \n",
    "        print('positive comment')\n",
    "    \n",
    "    else : \n",
    "        print('negative comment')"
   ]
  },
  {
   "cell_type": "code",
   "execution_count": 623,
   "id": "eab3954b-32db-4a18-b63a-0af5cd2042de",
   "metadata": {},
   "outputs": [
    {
     "name": "stdout",
     "output_type": "stream",
     "text": [
      "positive comment\n"
     ]
    }
   ],
   "source": [
    "getsentiment('I love the food, as it was prepared well')"
   ]
  },
  {
   "cell_type": "code",
   "execution_count": 624,
   "id": "5b17fa94-a5a4-4188-8f20-93268cb5bf44",
   "metadata": {},
   "outputs": [
    {
     "name": "stdout",
     "output_type": "stream",
     "text": [
      "negative comment\n"
     ]
    }
   ],
   "source": [
    "getsentiment('I think, It was need some extra spices')\n"
   ]
  },
  {
   "cell_type": "code",
   "execution_count": 625,
   "id": "4aea3d1c-ad5b-4a91-9a38-9301c3fc0eb4",
   "metadata": {},
   "outputs": [
    {
     "data": {
      "text/plain": [
       "['getsentiment.pkl']"
      ]
     },
     "execution_count": 625,
     "metadata": {},
     "output_type": "execute_result"
    }
   ],
   "source": [
    "joblib.dump(getsentiment ,'getsentiment.pkl')"
   ]
  },
  {
   "cell_type": "code",
   "execution_count": 626,
   "id": "ac3e932e-3c5f-4f45-b3bb-b333857de099",
   "metadata": {},
   "outputs": [],
   "source": [
    "model = joblib.load('getsentiment.pkl')"
   ]
  },
  {
   "cell_type": "code",
   "execution_count": 627,
   "id": "c08a6d2c-c3e4-44c8-b425-6ff67a43073f",
   "metadata": {},
   "outputs": [
    {
     "name": "stdout",
     "output_type": "stream",
     "text": [
      "positive comment\n",
      "negative comment\n"
     ]
    }
   ],
   "source": [
    "model('good service')\n",
    "model('pathetice food')"
   ]
  },
  {
   "cell_type": "markdown",
   "id": "1cc55251-210d-462f-bb9b-87ab5c627807",
   "metadata": {},
   "source": [
    " "
   ]
  },
  {
   "cell_type": "markdown",
   "id": "b10264f6-adae-4c74-be02-9fb9789d7d03",
   "metadata": {},
   "source": [
    " "
   ]
  },
  {
   "cell_type": "markdown",
   "id": "acddb7b4-56c3-427a-a064-b8b4b4b95930",
   "metadata": {},
   "source": [
    "Add a deployment in the app to automatically give reviews to the restaurant\n",
    "\n",
    "Transfered to the app developper !!!!!!!!!!!!!!!!!!!!!!"
   ]
  }
 ],
 "metadata": {
  "kernelspec": {
   "display_name": "Python 3 (ipykernel)",
   "language": "python",
   "name": "python3"
  },
  "language_info": {
   "codemirror_mode": {
    "name": "ipython",
    "version": 3
   },
   "file_extension": ".py",
   "mimetype": "text/x-python",
   "name": "python",
   "nbconvert_exporter": "python",
   "pygments_lexer": "ipython3",
   "version": "3.11.7"
  }
 },
 "nbformat": 4,
 "nbformat_minor": 5
}
